{
  "nbformat": 4,
  "nbformat_minor": 0,
  "metadata": {
    "colab": {
      "name": "Final_summary.ipynb",
      "version": "0.3.2",
      "provenance": [],
      "include_colab_link": true
    },
    "language_info": {
      "codemirror_mode": {
        "name": "ipython",
        "version": 3
      },
      "file_extension": ".py",
      "mimetype": "text/x-python",
      "name": "python",
      "nbconvert_exporter": "python",
      "pygments_lexer": "ipython3",
      "version": "3.7.2"
    },
    "kernelspec": {
      "display_name": "Python 3",
      "language": "python",
      "name": "python3"
    }
  },
  "cells": [
    {
      "cell_type": "markdown",
      "metadata": {
        "id": "view-in-github",
        "colab_type": "text"
      },
      "source": [
        "<a href=\"https://colab.research.google.com/github/rustambaku13/OMR/blob/master/Final_summary.ipynb\" target=\"_parent\"><img src=\"https://colab.research.google.com/assets/colab-badge.svg\" alt=\"Open In Colab\"/></a>"
      ]
    },
    {
      "cell_type": "markdown",
      "metadata": {
        "id": "q2z_BtElWbwi",
        "colab_type": "text"
      },
      "source": [
        "# OMR (Optical Music Recognition) Project for CNG 562 Course"
      ]
    },
    {
      "cell_type": "markdown",
      "metadata": {
        "id": "H4BID-DaWbwk",
        "colab_type": "text"
      },
      "source": [
        "I have divided this project into 2 parts \n",
        "    1. Simples Music Symbols detection\n",
        "    2. Seguence to Sequence Recognition \n",
        "    "
      ]
    },
    {
      "cell_type": "markdown",
      "metadata": {
        "id": "Ni8Dg-d3Wbwm",
        "colab_type": "text"
      },
      "source": [
        "# Part 1 "
      ]
    },
    {
      "cell_type": "markdown",
      "metadata": {
        "id": "7qdxOnKSWbwo",
        "colab_type": "text"
      },
      "source": [
        "In this part I have used the dataset called MUSCIMA++ Dataset which contains sheet music in XML format.\n",
        "I have reconstructed the image from the XML and separated different music symbols and trained the network to guess the symbol type from the image. I have reached 80% accuracy and I am sure it could be done way better, just my topic was mostly sequence to sequence detection so I moved on quite quickly."
      ]
    },
    {
      "cell_type": "markdown",
      "metadata": {
        "id": "mbMwVE0UWbwp",
        "colab_type": "text"
      },
      "source": [
        "# Part 2"
      ]
    },
    {
      "cell_type": "markdown",
      "metadata": {
        "id": "sFvzdQ5-Wbwq",
        "colab_type": "text"
      },
      "source": [
        "In this part I have used the dataset called Camera-PrIMuS dataset which is an extension of regular PrIMus dataset with already finished image augmentation to replicate camera images. The dataset also provides the vocabulary and output notes sequence. "
      ]
    },
    {
      "cell_type": "markdown",
      "metadata": {
        "id": "H9Ft8Gu_Wbwr",
        "colab_type": "text"
      },
      "source": [
        "I have struggled a lot with this task indeed. The main reasons are. \n",
        "    1. Because of the size of dataset the kernel was shutting down often. \n",
        "    Because of that at some point I have decided to serialize some of the arrays to save some potential memory through deserializing it.\n",
        "    2. The training time took huge amount of time.\n",
        "    3. No matter which model I tried, it didn't seem to work well.\n",
        "    \n"
      ]
    },
    {
      "cell_type": "markdown",
      "metadata": {
        "id": "y_Tn_djmWbws",
        "colab_type": "text"
      },
      "source": [
        "# Conclusion"
      ]
    },
    {
      "cell_type": "markdown",
      "metadata": {
        "id": "-4ohswviWbwt",
        "colab_type": "text"
      },
      "source": [
        "Overall, thoughout this project I have gained a lot of knowledge. I have learned a lot about different features of Keras. To list a few: \n",
        "    1. Building Models through Keras functional API\n",
        "    2. Using LSTM\n",
        "    3. Using 3-D Convolutions \n",
        "    4. Lerant about Tensors\n",
        "    5. Learnt about custom Layer creation in Keras API\n",
        "    6. Lerant wrapper Layers, namely TimeDistributed layer\n",
        "    7. Sliding Window Input\n",
        "    "
      ]
    },
    {
      "cell_type": "markdown",
      "metadata": {
        "id": "KfhvB3EBWbwt",
        "colab_type": "text"
      },
      "source": [
        "Generally I found this course good for people like me who haven't had any idea about machine learning before. I will, from now on, be more aware of stuff that are happening in the world of ML and also have wider perspective during ideation. "
      ]
    },
    {
      "cell_type": "markdown",
      "metadata": {
        "id": "WYjJXjiOWbwu",
        "colab_type": "text"
      },
      "source": [
        "Thank you "
      ]
    },
    {
      "cell_type": "code",
      "metadata": {
        "id": "oX2c3tqLWbwv",
        "colab_type": "code",
        "colab": {}
      },
      "source": [
        ""
      ],
      "execution_count": 0,
      "outputs": []
    }
  ]
}